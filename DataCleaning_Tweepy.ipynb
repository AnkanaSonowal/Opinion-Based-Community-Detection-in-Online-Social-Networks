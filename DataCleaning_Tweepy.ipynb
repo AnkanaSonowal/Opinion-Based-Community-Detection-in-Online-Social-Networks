{
  "nbformat": 4,
  "nbformat_minor": 0,
  "metadata": {
    "kernelspec": {
      "display_name": "Python 3",
      "language": "python",
      "name": "python3"
    },
    "language_info": {
      "codemirror_mode": {
        "name": "ipython",
        "version": 3
      },
      "file_extension": ".py",
      "mimetype": "text/x-python",
      "name": "python",
      "nbconvert_exporter": "python",
      "pygments_lexer": "ipython3",
      "version": "3.7.4"
    },
    "colab": {
      "name": "DataCleaning_Tweepy.ipynb",
      "provenance": [],
      "include_colab_link": true
    }
  },
  "cells": [
    {
      "cell_type": "markdown",
      "metadata": {
        "id": "view-in-github",
        "colab_type": "text"
      },
      "source": [
        "<a href=\"https://colab.research.google.com/github/AnkanaSonowal/Opinion-Based-Community-Detection-in-Online-Social-Networks/blob/main/DataCleaning_Tweepy.ipynb\" target=\"_parent\"><img src=\"https://colab.research.google.com/assets/colab-badge.svg\" alt=\"Open In Colab\"/></a>"
      ]
    },
    {
      "cell_type": "code",
      "metadata": {
        "scrolled": false,
        "id": "fNeq3yOorkkT"
      },
      "source": [
        "!pip install textblob"
      ],
      "execution_count": null,
      "outputs": []
    },
    {
      "cell_type": "code",
      "metadata": {
        "scrolled": true,
        "id": "F4ROEDtQrkkf"
      },
      "source": [
        "!python -m textblob.download_corpora"
      ],
      "execution_count": null,
      "outputs": []
    },
    {
      "cell_type": "code",
      "metadata": {
        "scrolled": true,
        "id": "rcMwSiq9rkkm"
      },
      "source": [
        "import pandas as pd\n",
        "cols=['created_at','id','text','source','user_id','truncated','in_reply_to_status_id','in_reply_to_user_id','in_reply_to_screen_name',\n",
        "     'retweeted_status_id','geo', 'place','retweet_count','reply_count','favorite_count','num_hashtags','num_urls','num_mentions','timestamp']\n",
        "data=pd.read_csv(\"tweets.csv\",usecols = ['text','user_id'],nrows=1048575)\n",
        "\n",
        "print(data.head(5))\n",
        "\n",
        "\n",
        "\n"
      ],
      "execution_count": null,
      "outputs": []
    },
    {
      "cell_type": "code",
      "metadata": {
        "id": "78cSI_twrkkr",
        "outputId": "d3fdb08e-df14-4c6e-85a3-973d18822a9f"
      },
      "source": [
        "len(data)"
      ],
      "execution_count": null,
      "outputs": [
        {
          "output_type": "execute_result",
          "data": {
            "text/plain": [
              "1048575"
            ]
          },
          "metadata": {
            "tags": []
          },
          "execution_count": 13
        }
      ]
    },
    {
      "cell_type": "code",
      "metadata": {
        "id": "M9lfQidUrkky"
      },
      "source": [
        "import numpy as np\n",
        "import matplotlib.pyplot as plt\n",
        "plt.style.use('fivethirtyeight')\n",
        "\n",
        "%matplotlib inline\n",
        "%config InlineBackend.figure_format = 'retina'"
      ],
      "execution_count": null,
      "outputs": []
    },
    {
      "cell_type": "code",
      "metadata": {
        "id": "frx8kOGGrkk3"
      },
      "source": [
        "from nltk.tokenize import WordPunctTokenizer\n",
        "tok = WordPunctTokenizer()"
      ],
      "execution_count": null,
      "outputs": []
    },
    {
      "cell_type": "code",
      "metadata": {
        "id": "UYnDKwATrkk7",
        "outputId": "69222ec4-0ea2-48de-cccc-f6f51ce3d231"
      },
      "source": [
        "!pip install BeautifulSoup4\n"
      ],
      "execution_count": null,
      "outputs": [
        {
          "output_type": "stream",
          "text": [
            "Requirement already satisfied: BeautifulSoup4 in c:\\users\\welco\\appdata\\local\\programs\\python\\python37\\lib\\site-packages (4.8.1)\n",
            "Requirement already satisfied: soupsieve>=1.2 in c:\\users\\welco\\appdata\\local\\programs\\python\\python37\\lib\\site-packages (from BeautifulSoup4) (1.9.5)\n"
          ],
          "name": "stdout"
        },
        {
          "output_type": "stream",
          "text": [
            "WARNING: You are using pip version 19.3.1; however, version 20.0.2 is available.\n",
            "You should consider upgrading via the 'python -m pip install --upgrade pip' command.\n"
          ],
          "name": "stderr"
        }
      ]
    },
    {
      "cell_type": "code",
      "metadata": {
        "id": "LS-_Nqp7rklC"
      },
      "source": [
        "import re\n",
        "from bs4 import BeautifulSoup"
      ],
      "execution_count": null,
      "outputs": []
    },
    {
      "cell_type": "code",
      "metadata": {
        "id": "U9ZP8MPXrklH",
        "outputId": "1762e8d3-a196-4bd8-c0b9-09ab12419efa"
      },
      "source": [
        "!pip install lxml\n"
      ],
      "execution_count": null,
      "outputs": [
        {
          "output_type": "stream",
          "text": [
            "Requirement already satisfied: lxml in c:\\users\\welco\\appdata\\local\\programs\\python\\python37\\lib\\site-packages (4.4.2)\n"
          ],
          "name": "stdout"
        },
        {
          "output_type": "stream",
          "text": [
            "WARNING: You are using pip version 19.3.1; however, version 20.0.2 is available.\n",
            "You should consider upgrading via the 'python -m pip install --upgrade pip' command.\n"
          ],
          "name": "stderr"
        }
      ]
    },
    {
      "cell_type": "code",
      "metadata": {
        "id": "dqMkhx9drklL"
      },
      "source": [
        "pat1 = r'@[A-Za-z0-9]+'\n",
        "pat2 = r'http?://[A-Za-z0-9./]+'\n",
        "combined_pat = r'|'.join((pat1, pat2))\n",
        "\n",
        "def tweet_cleaner(text):\n",
        "    soup = BeautifulSoup(text, \"html.parser\")\n",
        "    souped = soup.get_text()\n",
        "    stripped = re.sub(combined_pat, '', souped)\n",
        "    try:\n",
        "        clean = stripped.decode(\"utf-8-sig\").replace(u\"\\ufffd\", \"?\")\n",
        "    except:\n",
        "        clean = stripped\n",
        "    letters_only = re.sub(\"[^a-zA-Z]\", \" \", clean)\n",
        "    lower_case = letters_only.lower()\n",
        "    # During the letters_only process two lines above, it has created unnecessay white spaces,\n",
        "    # I will tokenize and join together to remove unneccessary white spaces\n",
        "    words = tok.tokenize(lower_case)\n",
        "    return (\" \".join(words)).strip()"
      ],
      "execution_count": null,
      "outputs": []
    },
    {
      "cell_type": "code",
      "metadata": {
        "id": "xrcv7_LprklP",
        "outputId": "3b48539f-83a8-4417-9042-e202819b4b64"
      },
      "source": [
        "print(data['user_id'][1048574])"
      ],
      "execution_count": null,
      "outputs": [
        {
          "output_type": "stream",
          "text": [
            "290723075\n"
          ],
          "name": "stdout"
        }
      ]
    },
    {
      "cell_type": "code",
      "metadata": {
        "id": "Xcu9Dy6rrklV"
      },
      "source": [
        "nums = [0,300000,700000,1048574]"
      ],
      "execution_count": null,
      "outputs": []
    },
    {
      "cell_type": "code",
      "metadata": {
        "id": "UtyndpU8rklb"
      },
      "source": [
        "import csv\n",
        "f = open('clean_tweets_new.csv', 'w')\n",
        "with f:    \n",
        "    fnames = ['user_id','text']\n",
        "    writer = csv.DictWriter(f, fieldnames=fnames) \n",
        "    writer.writeheader()"
      ],
      "execution_count": null,
      "outputs": []
    },
    {
      "cell_type": "code",
      "metadata": {
        "id": "JSFOvOdSrkle"
      },
      "source": [
        "%%time\n",
        "print(\"Cleaning and parsing the tweets...\\n\")\n",
        "clean_tweet_texts = [] \n",
        "for i in range(nums[0],nums[1]):\n",
        "    if( (i+1)%10000 == 0 ):\n",
        "        print(\"Tweets %d of %d has been processed\" % ( i+1, nums[1] ))   \n",
        "    s=tweet_cleaner(str(data['text'][i]))\n",
        "    #writer.writerow({'user_id' :str(data['user_id'][i]), 'text':s})\n",
        "    clean_tweet_texts.append({'user_id' :str(data['user_id'][i]), 'text':s})\n",
        "    #clean_tweet_texts.append(s)\n",
        "    print(\"text:%s\",s)"
      ],
      "execution_count": null,
      "outputs": []
    },
    {
      "cell_type": "code",
      "metadata": {
        "id": "WXQDJ1tBrknf",
        "outputId": "d314ef67-fae3-476b-f7d1-4daa77e132b9"
      },
      "source": [
        "len(clean_tweet_texts)"
      ],
      "execution_count": null,
      "outputs": [
        {
          "output_type": "execute_result",
          "data": {
            "text/plain": [
              "300000"
            ]
          },
          "metadata": {
            "tags": []
          },
          "execution_count": 28
        }
      ]
    },
    {
      "cell_type": "markdown",
      "metadata": {
        "scrolled": false,
        "id": "iv_yn51Erknj"
      },
      "source": [
        "%%time\n",
        "print(\"Cleaning and parsing the tweets...\\n\")\n",
        "clean_tweet_texts = [] \n",
        "for i in range(nums[1],nums[2]):\n",
        "    if( (i+1)%10000 == 0 ):\n",
        "        print(\"Tweets %d of %d has been processed\" % ( i+1, nums[1] ))   \n",
        "    s=tweet_cleaner(str(data['text'][i]))\n",
        "    #writer.writerow({'user_id' :str(data['user_id'][i]), 'text':s})\n",
        "    clean_tweet_texts.append({'user_id' :str(data['user_id'][i]), 'text':s})\n",
        "    #clean_tweet_texts.append(s)\n",
        "    print(\"text:%s\",s)"
      ]
    },
    {
      "cell_type": "code",
      "metadata": {
        "id": "JAMZx51_rknk",
        "outputId": "b7f95574-4300-49ca-a6dc-5f40356249ae"
      },
      "source": [
        "len(clean_tweet_texts)"
      ],
      "execution_count": null,
      "outputs": [
        {
          "output_type": "execute_result",
          "data": {
            "text/plain": [
              "700000"
            ]
          },
          "metadata": {
            "tags": []
          },
          "execution_count": 30
        }
      ]
    },
    {
      "cell_type": "code",
      "metadata": {
        "id": "f8kAmdkMrkn6"
      },
      "source": [
        ""
      ],
      "execution_count": null,
      "outputs": []
    },
    {
      "cell_type": "code",
      "metadata": {
        "id": "nPf1EIofrkoB"
      },
      "source": [
        "%%time\n",
        "print(\"Cleaning and parsing the tweets...\\n\")\n",
        "#clean_tweet_texts = [] \n",
        "for i in range(nums[2],nums[3]):\n",
        "    if( (i+1)%10000 == 0 ):\n",
        "        print(\"Tweets %d of %d has been processed\" % ( i+1, nums[3] ))   \n",
        "    s=tweet_cleaner(str(data['text'][i]))\n",
        "    #writer.writerow({'user_id' :str(data['user_id'][i]), 'text':s})\n",
        "    clean_tweet_texts.append({'user_id' :str(data['user_id'][i]), 'text':s})\n",
        "    #clean_tweet_texts.append(s)\n",
        "    print(\"text:%s\",s)"
      ],
      "execution_count": null,
      "outputs": []
    },
    {
      "cell_type": "code",
      "metadata": {
        "id": "OFtO0M-3rkoK",
        "outputId": "2e492f37-0235-4085-b6a5-2d50a6c9c5c9"
      },
      "source": [
        "len(clean_tweet_texts)"
      ],
      "execution_count": null,
      "outputs": [
        {
          "output_type": "execute_result",
          "data": {
            "text/plain": [
              "1048574"
            ]
          },
          "metadata": {
            "tags": []
          },
          "execution_count": 32
        }
      ]
    },
    {
      "cell_type": "code",
      "metadata": {
        "id": "9SjzSwNvrkoS",
        "outputId": "b955aab5-d706-4163-d1b5-1cb57f026283"
      },
      "source": [
        "\n",
        "clean_data = pd.DataFrame(clean_tweet_texts,columns=['user_id','text'])\n",
        "#clean_data['target'] = df.sentiment\n",
        "clean_data.head()"
      ],
      "execution_count": null,
      "outputs": [
        {
          "output_type": "execute_result",
          "data": {
            "text/html": [
              "<div>\n",
              "<style scoped>\n",
              "    .dataframe tbody tr th:only-of-type {\n",
              "        vertical-align: middle;\n",
              "    }\n",
              "\n",
              "    .dataframe tbody tr th {\n",
              "        vertical-align: top;\n",
              "    }\n",
              "\n",
              "    .dataframe thead th {\n",
              "        text-align: right;\n",
              "    }\n",
              "</style>\n",
              "<table border=\"1\" class=\"dataframe\">\n",
              "  <thead>\n",
              "    <tr style=\"text-align: right;\">\n",
              "      <th></th>\n",
              "      <th>user_id</th>\n",
              "      <th>text</th>\n",
              "    </tr>\n",
              "  </thead>\n",
              "  <tbody>\n",
              "    <tr>\n",
              "      <th>0</th>\n",
              "      <td>3610511</td>\n",
              "      <td>the screenweek h daily is out top stories toda...</td>\n",
              "    </tr>\n",
              "    <tr>\n",
              "      <th>1</th>\n",
              "      <td>3610511</td>\n",
              "      <td>sw daily top news top stories by disney it win...</td>\n",
              "    </tr>\n",
              "    <tr>\n",
              "      <th>2</th>\n",
              "      <td>3610511</td>\n",
              "      <td>the davide dellacasa daily is out top stories ...</td>\n",
              "    </tr>\n",
              "    <tr>\n",
              "      <th>3</th>\n",
              "      <td>3610511</td>\n",
              "      <td>sw top story planes il teaser trailer ufficial...</td>\n",
              "    </tr>\n",
              "    <tr>\n",
              "      <th>4</th>\n",
              "      <td>3610511</td>\n",
              "      <td>the screenweek h daily is out top stories toda...</td>\n",
              "    </tr>\n",
              "  </tbody>\n",
              "</table>\n",
              "</div>"
            ],
            "text/plain": [
              "   user_id                                               text\n",
              "0  3610511  the screenweek h daily is out top stories toda...\n",
              "1  3610511  sw daily top news top stories by disney it win...\n",
              "2  3610511  the davide dellacasa daily is out top stories ...\n",
              "3  3610511  sw top story planes il teaser trailer ufficial...\n",
              "4  3610511  the screenweek h daily is out top stories toda..."
            ]
          },
          "metadata": {
            "tags": []
          },
          "execution_count": 33
        }
      ]
    },
    {
      "cell_type": "code",
      "metadata": {
        "id": "zaLa5COgrkoh"
      },
      "source": [
        "clean_data.to_csv('clean_tweet.csv',encoding='utf-8')"
      ],
      "execution_count": null,
      "outputs": []
    },
    {
      "cell_type": "code",
      "metadata": {
        "id": "Sq4Rrh-Drkoq",
        "outputId": "c2acc802-f96b-4900-cb17-c96bebaf892f"
      },
      "source": [
        "\n",
        "csv = 'clean_tweet.csv'\n",
        "my_data = pd.read_csv(csv,index_col=0)\n",
        "my_data.head()"
      ],
      "execution_count": null,
      "outputs": [
        {
          "output_type": "execute_result",
          "data": {
            "text/html": [
              "<div>\n",
              "<style scoped>\n",
              "    .dataframe tbody tr th:only-of-type {\n",
              "        vertical-align: middle;\n",
              "    }\n",
              "\n",
              "    .dataframe tbody tr th {\n",
              "        vertical-align: top;\n",
              "    }\n",
              "\n",
              "    .dataframe thead th {\n",
              "        text-align: right;\n",
              "    }\n",
              "</style>\n",
              "<table border=\"1\" class=\"dataframe\">\n",
              "  <thead>\n",
              "    <tr style=\"text-align: right;\">\n",
              "      <th></th>\n",
              "      <th>user_id</th>\n",
              "      <th>text</th>\n",
              "    </tr>\n",
              "  </thead>\n",
              "  <tbody>\n",
              "    <tr>\n",
              "      <th>0</th>\n",
              "      <td>3610511</td>\n",
              "      <td>the screenweek h daily is out top stories toda...</td>\n",
              "    </tr>\n",
              "    <tr>\n",
              "      <th>1</th>\n",
              "      <td>3610511</td>\n",
              "      <td>sw daily top news top stories by disney it win...</td>\n",
              "    </tr>\n",
              "    <tr>\n",
              "      <th>2</th>\n",
              "      <td>3610511</td>\n",
              "      <td>the davide dellacasa daily is out top stories ...</td>\n",
              "    </tr>\n",
              "    <tr>\n",
              "      <th>3</th>\n",
              "      <td>3610511</td>\n",
              "      <td>sw top story planes il teaser trailer ufficial...</td>\n",
              "    </tr>\n",
              "    <tr>\n",
              "      <th>4</th>\n",
              "      <td>3610511</td>\n",
              "      <td>the screenweek h daily is out top stories toda...</td>\n",
              "    </tr>\n",
              "  </tbody>\n",
              "</table>\n",
              "</div>"
            ],
            "text/plain": [
              "   user_id                                               text\n",
              "0  3610511  the screenweek h daily is out top stories toda...\n",
              "1  3610511  sw daily top news top stories by disney it win...\n",
              "2  3610511  the davide dellacasa daily is out top stories ...\n",
              "3  3610511  sw top story planes il teaser trailer ufficial...\n",
              "4  3610511  the screenweek h daily is out top stories toda..."
            ]
          },
          "metadata": {
            "tags": []
          },
          "execution_count": 36
        }
      ]
    },
    {
      "cell_type": "code",
      "metadata": {
        "id": "X55ngb5Rrkov"
      },
      "source": [
        "import pandas as pd\n",
        "clean_data=pd.read_csv(\"clean_tweet.csv\")\n"
      ],
      "execution_count": null,
      "outputs": []
    },
    {
      "cell_type": "code",
      "metadata": {
        "id": "F5kexZ5hrko3",
        "outputId": "31a487f5-35e0-4154-bdff-7aa6d0c5e6e1"
      },
      "source": [
        "len(clean_data)"
      ],
      "execution_count": null,
      "outputs": [
        {
          "output_type": "execute_result",
          "data": {
            "text/plain": [
              "1048574"
            ]
          },
          "metadata": {
            "tags": []
          },
          "execution_count": 38
        }
      ]
    },
    {
      "cell_type": "code",
      "metadata": {
        "id": "2vWD7_vmrkpW"
      },
      "source": [
        "def get_tweet_sentiment(tweet): \n",
        "        ''' \n",
        "        Utility function to classify sentiment of passed tweet \n",
        "        using textblob's sentiment method \n",
        "        '''\n",
        "        # create TextBlob object of passed tweet text \n",
        "        analysis = TextBlob(tweet) \n",
        "        # set sentiment \n",
        "#         if analysis.sentiment.polarity > 0: \n",
        "#             return 'positive'\n",
        "#         elif analysis.sentiment.polarity == 0: \n",
        "#             return 'neutral'\n",
        "#         else: \n",
        "        return analysis.sentiment.polarity"
      ],
      "execution_count": null,
      "outputs": []
    },
    {
      "cell_type": "code",
      "metadata": {
        "id": "uotUqk9Wrkpe"
      },
      "source": [
        "from textblob import TextBlob "
      ],
      "execution_count": null,
      "outputs": []
    },
    {
      "cell_type": "code",
      "metadata": {
        "id": "tCWtm7-srkpm"
      },
      "source": [
        "nums = [0,300000,700000,1048574]"
      ],
      "execution_count": null,
      "outputs": []
    },
    {
      "cell_type": "code",
      "metadata": {
        "id": "h0SFEQDbrkps"
      },
      "source": [
        "print(\"Sentiment Analysis Tweet...\\n\")\n",
        "rows=[]\n",
        "for i in range(nums[0],nums[1]):\n",
        "    if( (i+1)%10000 == 0 ):\n",
        "        print(\"Tweets %d of %d has been processed\" % ( i+1, nums[3] ))   \n",
        "    f=get_tweet_sentiment(str(clean_data['text'][i])) \n",
        "    rows.append({'user_id' :str(clean_data['user_id'][i]), 'sentiment':str(f)})   \n",
        "    print(str(f) )\n",
        "   "
      ],
      "execution_count": null,
      "outputs": []
    },
    {
      "cell_type": "code",
      "metadata": {
        "id": "CqxJib7LrkqB",
        "outputId": "3abe740b-6513-4db2-a792-1457b6a013af"
      },
      "source": [
        "len(rows)"
      ],
      "execution_count": null,
      "outputs": [
        {
          "output_type": "execute_result",
          "data": {
            "text/plain": [
              "300000"
            ]
          },
          "metadata": {
            "tags": []
          },
          "execution_count": 43
        }
      ]
    },
    {
      "cell_type": "code",
      "metadata": {
        "id": "jN1akiWHrkqG"
      },
      "source": [
        "print(\"Sentiment Analysis Tweet...\\n\")\n",
        "#rows=[]\n",
        "for i in range(nums[1],nums[2]):\n",
        "    if( (i+1)%10000 == 0 ):\n",
        "        print(\"Tweets %d of %d has been processed\" % ( i+1, nums[3] ))   \n",
        "    f=get_tweet_sentiment(str(clean_data['text'][i])) \n",
        "    rows.append({'user_id' :str(clean_data['user_id'][i]), 'sentiment':str(f)})   \n",
        "    print(str(f) )\n",
        "   "
      ],
      "execution_count": null,
      "outputs": []
    },
    {
      "cell_type": "code",
      "metadata": {
        "id": "pj7y__fPrkqa",
        "outputId": "c5ae223e-2941-4e03-fa46-78bebeed63fb"
      },
      "source": [
        "len(rows)"
      ],
      "execution_count": null,
      "outputs": [
        {
          "output_type": "execute_result",
          "data": {
            "text/plain": [
              "700000"
            ]
          },
          "metadata": {
            "tags": []
          },
          "execution_count": 45
        }
      ]
    },
    {
      "cell_type": "code",
      "metadata": {
        "id": "MEYgF1o-rkqh"
      },
      "source": [
        "print(\"Sentiment Analysis Tweet...\\n\")\n",
        "#rows=[]\n",
        "for i in range(nums[2],nums[3]):\n",
        "    if( (i+1)%10000 == 0 ):\n",
        "        print(\"Tweets %d of %d has been processed\" % ( i+1, nums[3] ))   \n",
        "    f=get_tweet_sentiment(str(clean_data['text'][i])) \n",
        "    rows.append({'user_id' :str(clean_data['user_id'][i]), 'sentiment':str(f)})   \n",
        "    print(str(f) )\n",
        "   "
      ],
      "execution_count": null,
      "outputs": []
    },
    {
      "cell_type": "code",
      "metadata": {
        "id": "BMqugVRsrkqx",
        "outputId": "00735acf-c63f-4164-804a-3ecb0d58fca3",
        "colab": {
          "base_uri": "https://localhost:8080/",
          "height": 163
        }
      },
      "source": [
        "len(rows)"
      ],
      "execution_count": null,
      "outputs": [
        {
          "output_type": "error",
          "ename": "NameError",
          "evalue": "ignored",
          "traceback": [
            "\u001b[0;31m---------------------------------------------------------------------------\u001b[0m",
            "\u001b[0;31mNameError\u001b[0m                                 Traceback (most recent call last)",
            "\u001b[0;32m<ipython-input-1-ef340dbc6281>\u001b[0m in \u001b[0;36m<module>\u001b[0;34m()\u001b[0m\n\u001b[0;32m----> 1\u001b[0;31m \u001b[0mlen\u001b[0m\u001b[0;34m(\u001b[0m\u001b[0mrows\u001b[0m\u001b[0;34m)\u001b[0m\u001b[0;34m\u001b[0m\u001b[0;34m\u001b[0m\u001b[0m\n\u001b[0m",
            "\u001b[0;31mNameError\u001b[0m: name 'rows' is not defined"
          ]
        }
      ]
    },
    {
      "cell_type": "code",
      "metadata": {
        "id": "uhMQEU1Yrkq0",
        "outputId": "3f473728-ec8c-4e8c-c456-451c6d3443e8"
      },
      "source": [
        "new_data = pd.DataFrame(rows,columns=['user_id','sentiment'])\n",
        "#clean_data['target'] = df.sentiment\n",
        "new_data.head()"
      ],
      "execution_count": null,
      "outputs": [
        {
          "output_type": "execute_result",
          "data": {
            "text/html": [
              "<div>\n",
              "<style scoped>\n",
              "    .dataframe tbody tr th:only-of-type {\n",
              "        vertical-align: middle;\n",
              "    }\n",
              "\n",
              "    .dataframe tbody tr th {\n",
              "        vertical-align: top;\n",
              "    }\n",
              "\n",
              "    .dataframe thead th {\n",
              "        text-align: right;\n",
              "    }\n",
              "</style>\n",
              "<table border=\"1\" class=\"dataframe\">\n",
              "  <thead>\n",
              "    <tr style=\"text-align: right;\">\n",
              "      <th></th>\n",
              "      <th>user_id</th>\n",
              "      <th>sentiment</th>\n",
              "    </tr>\n",
              "  </thead>\n",
              "  <tbody>\n",
              "    <tr>\n",
              "      <th>0</th>\n",
              "      <td>3610511</td>\n",
              "      <td>0.25</td>\n",
              "    </tr>\n",
              "    <tr>\n",
              "      <th>1</th>\n",
              "      <td>3610511</td>\n",
              "      <td>0.3333333333333333</td>\n",
              "    </tr>\n",
              "    <tr>\n",
              "      <th>2</th>\n",
              "      <td>3610511</td>\n",
              "      <td>0.25</td>\n",
              "    </tr>\n",
              "    <tr>\n",
              "      <th>3</th>\n",
              "      <td>3610511</td>\n",
              "      <td>0.5</td>\n",
              "    </tr>\n",
              "    <tr>\n",
              "      <th>4</th>\n",
              "      <td>3610511</td>\n",
              "      <td>0.25</td>\n",
              "    </tr>\n",
              "  </tbody>\n",
              "</table>\n",
              "</div>"
            ],
            "text/plain": [
              "   user_id           sentiment\n",
              "0  3610511                0.25\n",
              "1  3610511  0.3333333333333333\n",
              "2  3610511                0.25\n",
              "3  3610511                 0.5\n",
              "4  3610511                0.25"
            ]
          },
          "metadata": {
            "tags": []
          },
          "execution_count": 48
        }
      ]
    },
    {
      "cell_type": "code",
      "metadata": {
        "id": "-fykRNwtrkq4"
      },
      "source": [
        "new_data.to_csv('sentiment_tweet.csv',encoding='utf-8')"
      ],
      "execution_count": null,
      "outputs": []
    },
    {
      "cell_type": "code",
      "metadata": {
        "id": "dH-RsgGerkq8"
      },
      "source": [
        "import numpy as np \n",
        "import pandas as pd\n",
        "#Started 18 APril here"
      ],
      "execution_count": null,
      "outputs": []
    },
    {
      "cell_type": "code",
      "metadata": {
        "id": "FngFcpg8u-YH"
      },
      "source": [
        "# Code to read csv file into Colaboratory:\n",
        "!pip install -U -q PyDrive\n",
        "from pydrive.auth import GoogleAuth\n",
        "from pydrive.drive import GoogleDrive\n",
        "from google.colab import auth\n",
        "from oauth2client.client import GoogleCredentials\n",
        "# Authenticate and create the PyDrive client.\n",
        "auth.authenticate_user()\n",
        "gauth = GoogleAuth()\n",
        "gauth.credentials = GoogleCredentials.get_application_default()\n",
        "drive = GoogleDrive(gauth)"
      ],
      "execution_count": null,
      "outputs": []
    },
    {
      "cell_type": "code",
      "metadata": {
        "id": "u6VgkpD3wxEY"
      },
      "source": [
        "link='https://drive.google.com/open?id=1aJH6dRi_fl0zLtMwYxqsbj1tzH4zBrh_'"
      ],
      "execution_count": null,
      "outputs": []
    },
    {
      "cell_type": "code",
      "metadata": {
        "id": "9Gg7-qp0xLXw",
        "outputId": "b4a88e6f-c8a2-4bd4-c10b-135b1fe52e35",
        "colab": {
          "base_uri": "https://localhost:8080/",
          "height": 34
        }
      },
      "source": [
        "fluff, id = link.split('=')\n",
        "print (id) # Verify that you have everything after '='"
      ],
      "execution_count": null,
      "outputs": [
        {
          "output_type": "stream",
          "text": [
            "1aJH6dRi_fl0zLtMwYxqsbj1tzH4zBrh_\n"
          ],
          "name": "stdout"
        }
      ]
    },
    {
      "cell_type": "code",
      "metadata": {
        "id": "AQbu2_amxRwx"
      },
      "source": [
        "downloaded = drive.CreateFile({'id':id}) \n",
        "downloaded.GetContentFile('sentiment_tweet.csv')  \n",
        "my_data = pd.read_csv('sentiment_tweet.csv')"
      ],
      "execution_count": null,
      "outputs": []
    },
    {
      "cell_type": "code",
      "metadata": {
        "id": "ekSK-PsSrkq_"
      },
      "source": [
        "\n",
        "# csv = 'sentiment_tweet.csv'\n",
        "# my_data = pd.read_csv(csv)\n",
        "my_data.head()"
      ],
      "execution_count": null,
      "outputs": []
    },
    {
      "cell_type": "code",
      "metadata": {
        "id": "b6zvTxoDrkrG",
        "outputId": "b4646bb5-00d4-4da4-dd20-a898fbf191e8",
        "colab": {
          "base_uri": "https://localhost:8080/",
          "height": 34
        }
      },
      "source": [
        "my_data.columns"
      ],
      "execution_count": null,
      "outputs": [
        {
          "output_type": "execute_result",
          "data": {
            "text/plain": [
              "Index(['Unnamed: 0', 'user_id', 'sentiment'], dtype='object')"
            ]
          },
          "metadata": {
            "tags": []
          },
          "execution_count": 10
        }
      ]
    },
    {
      "cell_type": "code",
      "metadata": {
        "id": "m6MHxHgLrkrM"
      },
      "source": [
        "my_data.drop('Unnamed: 0',axis=1,inplace=True)"
      ],
      "execution_count": null,
      "outputs": []
    },
    {
      "cell_type": "code",
      "metadata": {
        "id": "b4OY5hk8rkrS"
      },
      "source": [
        "my_data"
      ],
      "execution_count": null,
      "outputs": []
    },
    {
      "cell_type": "code",
      "metadata": {
        "id": "-a-_nSF_rkrZ",
        "outputId": "653b818d-68ac-43f5-cb1d-bd29da0941d3",
        "colab": {
          "base_uri": "https://localhost:8080/",
          "height": 34
        }
      },
      "source": [
        "len(my_data)"
      ],
      "execution_count": null,
      "outputs": [
        {
          "output_type": "execute_result",
          "data": {
            "text/plain": [
              "1048574"
            ]
          },
          "metadata": {
            "tags": []
          },
          "execution_count": 13
        }
      ]
    },
    {
      "cell_type": "code",
      "metadata": {
        "id": "J6fs6vt5rkrc",
        "outputId": "340f6c4a-98bc-480f-c791-79b2c782237d",
        "colab": {
          "base_uri": "https://localhost:8080/",
          "height": 34
        }
      },
      "source": [
        "my_data.columns"
      ],
      "execution_count": null,
      "outputs": [
        {
          "output_type": "execute_result",
          "data": {
            "text/plain": [
              "Index(['user_id', 'sentiment'], dtype='object')"
            ]
          },
          "metadata": {
            "tags": []
          },
          "execution_count": 14
        }
      ]
    },
    {
      "cell_type": "code",
      "metadata": {
        "id": "SM7oNaHPrkrg",
        "outputId": "11212cb6-2142-4a56-c4a0-fd7090061bfd",
        "colab": {
          "base_uri": "https://localhost:8080/",
          "height": 68
        }
      },
      "source": [
        "my_data.dtypes"
      ],
      "execution_count": null,
      "outputs": [
        {
          "output_type": "execute_result",
          "data": {
            "text/plain": [
              "user_id        int64\n",
              "sentiment    float64\n",
              "dtype: object"
            ]
          },
          "metadata": {
            "tags": []
          },
          "execution_count": 15
        }
      ]
    },
    {
      "cell_type": "code",
      "metadata": {
        "id": "XUt4RlFGrkrk"
      },
      "source": [
        "l1=[ my_data['sentiment'][i] for i in range(len(my_data)) if my_data['user_id'][i]== 3610511]"
      ],
      "execution_count": null,
      "outputs": []
    },
    {
      "cell_type": "code",
      "metadata": {
        "id": "Bu7P0s2cylpN",
        "outputId": "7904a2c1-8170-43b0-b3b6-1bf9eff8b714",
        "colab": {
          "base_uri": "https://localhost:8080/",
          "height": 34
        }
      },
      "source": [
        "len(l1)"
      ],
      "execution_count": null,
      "outputs": [
        {
          "output_type": "execute_result",
          "data": {
            "text/plain": [
              "3057"
            ]
          },
          "metadata": {
            "tags": []
          },
          "execution_count": 20
        }
      ]
    },
    {
      "cell_type": "code",
      "metadata": {
        "id": "zGU3hZ-IyroY",
        "outputId": "173bdbd2-2a70-468f-fc33-4724010c4434",
        "colab": {
          "base_uri": "https://localhost:8080/",
          "height": 34
        }
      },
      "source": [
        "pos,neg,zero,sum=0,0,0,0\n",
        "posn,negn=0,0\n",
        "for num in l1:\n",
        "  if(num>0):\n",
        "    pos=pos+1\n",
        "    posn=posn+num\n",
        "  elif(num<0):\n",
        "    neg=neg+1\n",
        "    negn=negn+num\n",
        "  elif(num==0):\n",
        "    zero=zero+1\n",
        "  sum=sum+num\n",
        "print(pos,neg,zero,sum,sum/len(l1),posn/pos,negn/neg)"
      ],
      "execution_count": null,
      "outputs": [
        {
          "output_type": "stream",
          "text": [
            "982 170 1905 297.81693903318876 0.09742130815609708 0.34650656746888864 -0.24972064836035418\n"
          ],
          "name": "stdout"
        }
      ]
    },
    {
      "cell_type": "code",
      "metadata": {
        "id": "XegxZIRH0HLI"
      },
      "source": [
        "uniqUsers=[]\n",
        "uniqUsers=my_data.user_id.unique()"
      ],
      "execution_count": null,
      "outputs": []
    },
    {
      "cell_type": "code",
      "metadata": {
        "id": "21F5iEuE0UHF",
        "outputId": "244ed704-fab6-4c3b-8a2a-b9e8a543a604",
        "colab": {
          "base_uri": "https://localhost:8080/",
          "height": 34
        }
      },
      "source": [
        "len(uniqUsers)"
      ],
      "execution_count": null,
      "outputs": [
        {
          "output_type": "execute_result",
          "data": {
            "text/plain": [
              "585"
            ]
          },
          "metadata": {
            "tags": []
          },
          "execution_count": 33
        }
      ]
    },
    {
      "cell_type": "code",
      "metadata": {
        "id": "o76LjNU67_0g"
      },
      "source": [
        "group=my_data.groupby('user_id')"
      ],
      "execution_count": null,
      "outputs": []
    },
    {
      "cell_type": "code",
      "metadata": {
        "id": "Da2vUllZ8HV1"
      },
      "source": [
        "df=group.apply(lambda x:x['sentiment'])"
      ],
      "execution_count": null,
      "outputs": []
    },
    {
      "cell_type": "code",
      "metadata": {
        "id": "LIdKosQ18Ut8",
        "outputId": "81c6ed29-997a-4108-987c-c67c2e38b23d",
        "colab": {
          "base_uri": "https://localhost:8080/",
          "height": 136
        }
      },
      "source": [
        "df.head()"
      ],
      "execution_count": null,
      "outputs": [
        {
          "output_type": "execute_result",
          "data": {
            "text/plain": [
              "user_id   \n",
              "3610511  0    0.250000\n",
              "         1    0.333333\n",
              "         2    0.250000\n",
              "         3    0.500000\n",
              "         4    0.250000\n",
              "Name: sentiment, dtype: float64"
            ]
          },
          "metadata": {
            "tags": []
          },
          "execution_count": 40
        }
      ]
    },
    {
      "cell_type": "code",
      "metadata": {
        "id": "-36O0ocI8dMd",
        "outputId": "37a2d8cb-c41e-493e-e3cb-ac75f36e4641",
        "colab": {
          "base_uri": "https://localhost:8080/",
          "height": 34
        }
      },
      "source": [
        "len(df)"
      ],
      "execution_count": null,
      "outputs": [
        {
          "output_type": "execute_result",
          "data": {
            "text/plain": [
              "1048574"
            ]
          },
          "metadata": {
            "tags": []
          },
          "execution_count": 41
        }
      ]
    },
    {
      "cell_type": "code",
      "metadata": {
        "id": "QN63g0UE8g_H"
      },
      "source": [
        "df2=pd.DataFrame({'user_id':my_data.user_id.unique()})"
      ],
      "execution_count": null,
      "outputs": []
    },
    {
      "cell_type": "code",
      "metadata": {
        "id": "lpvf5lf99dsn"
      },
      "source": [
        "df2['sentiment']=[list(set(my_data['sentiment'].loc[my_data['user_id']==x['user_id']])) for _,x in df2.iterrows() ]"
      ],
      "execution_count": null,
      "outputs": []
    },
    {
      "cell_type": "code",
      "metadata": {
        "id": "fmaVDafT-JgH",
        "outputId": "7e57873b-0b13-4e8d-b21b-5ab449b1acc8",
        "colab": {
          "base_uri": "https://localhost:8080/",
          "height": 204
        }
      },
      "source": [
        "df2.head()"
      ],
      "execution_count": null,
      "outputs": [
        {
          "output_type": "execute_result",
          "data": {
            "text/html": [
              "<div>\n",
              "<style scoped>\n",
              "    .dataframe tbody tr th:only-of-type {\n",
              "        vertical-align: middle;\n",
              "    }\n",
              "\n",
              "    .dataframe tbody tr th {\n",
              "        vertical-align: top;\n",
              "    }\n",
              "\n",
              "    .dataframe thead th {\n",
              "        text-align: right;\n",
              "    }\n",
              "</style>\n",
              "<table border=\"1\" class=\"dataframe\">\n",
              "  <thead>\n",
              "    <tr style=\"text-align: right;\">\n",
              "      <th></th>\n",
              "      <th>user_id</th>\n",
              "      <th>sentiment</th>\n",
              "    </tr>\n",
              "  </thead>\n",
              "  <tbody>\n",
              "    <tr>\n",
              "      <th>0</th>\n",
              "      <td>3610511</td>\n",
              "      <td>[0.25, 0.5, 0.0, -0.25, 0.7, -0.09375, -0.125,...</td>\n",
              "    </tr>\n",
              "    <tr>\n",
              "      <th>1</th>\n",
              "      <td>5656162</td>\n",
              "      <td>[0.5, 0.0, -0.125, 0.25, 0.8, -0.3125, -0.5, 0...</td>\n",
              "    </tr>\n",
              "    <tr>\n",
              "      <th>2</th>\n",
              "      <td>5682702</td>\n",
              "      <td>[0.5, 0.0, 0.8, -0.5, -0.125, 0.0625, -0.03125...</td>\n",
              "    </tr>\n",
              "    <tr>\n",
              "      <th>3</th>\n",
              "      <td>6015122</td>\n",
              "      <td>[0.0, 0.3666666666666667, -0.1555555555555556,...</td>\n",
              "    </tr>\n",
              "    <tr>\n",
              "      <th>4</th>\n",
              "      <td>6067292</td>\n",
              "      <td>[0.0, 0.13636363636363635, 0.21666666666666667...</td>\n",
              "    </tr>\n",
              "  </tbody>\n",
              "</table>\n",
              "</div>"
            ],
            "text/plain": [
              "   user_id                                          sentiment\n",
              "0  3610511  [0.25, 0.5, 0.0, -0.25, 0.7, -0.09375, -0.125,...\n",
              "1  5656162  [0.5, 0.0, -0.125, 0.25, 0.8, -0.3125, -0.5, 0...\n",
              "2  5682702  [0.5, 0.0, 0.8, -0.5, -0.125, 0.0625, -0.03125...\n",
              "3  6015122  [0.0, 0.3666666666666667, -0.1555555555555556,...\n",
              "4  6067292  [0.0, 0.13636363636363635, 0.21666666666666667..."
            ]
          },
          "metadata": {
            "tags": []
          },
          "execution_count": 55
        }
      ]
    },
    {
      "cell_type": "code",
      "metadata": {
        "id": "Y9H7eWhR-fkn",
        "outputId": "be41df38-c68a-4d65-d2be-638225bb5055",
        "colab": {
          "base_uri": "https://localhost:8080/",
          "height": 34
        }
      },
      "source": [
        "len(df2)"
      ],
      "execution_count": null,
      "outputs": [
        {
          "output_type": "execute_result",
          "data": {
            "text/plain": [
              "585"
            ]
          },
          "metadata": {
            "tags": []
          },
          "execution_count": 56
        }
      ]
    },
    {
      "cell_type": "code",
      "metadata": {
        "id": "s4NaoIFY-tuo"
      },
      "source": [
        "df2.to_csv('user_sentiment_list.csv',encoding='utf-8')"
      ],
      "execution_count": null,
      "outputs": []
    },
    {
      "cell_type": "code",
      "metadata": {
        "id": "Rme-ZUs5A65G"
      },
      "source": [
        "df2['sentiment'][0]"
      ],
      "execution_count": null,
      "outputs": []
    },
    {
      "cell_type": "code",
      "metadata": {
        "id": "tVf5NfQ10_sY"
      },
      "source": [
        "rows=[]\n",
        "for i in range(len(df2)):\n",
        "  sentiment_list=df2['sentiment'][i]\n",
        "  pos,neg,zero=0,0,0\n",
        "  posn,negn=0,0\n",
        "  for num in sentiment_list:\n",
        "    if(num>0):\n",
        "      pos=pos+1\n",
        "      posn=posn+num\n",
        "    elif(num<0):\n",
        "      neg=neg+1\n",
        "      negn=negn+num\n",
        "    elif(num==0):\n",
        "      zero=zero+1\n",
        "  if(pos>neg) and (pos>zero):\n",
        "    sum=posn/pos\n",
        "  elif(neg>=pos) and (neg>=zero):\n",
        "    sum=negn/neg\n",
        "  elif(zero>=neg) and (zero>=pos):\n",
        "    sum=0\n",
        "  \n",
        "  rows.append({'user_id':str(df2['user_id'][i]),'sentiment':str(sum)})\n",
        "  "
      ],
      "execution_count": null,
      "outputs": []
    },
    {
      "cell_type": "code",
      "metadata": {
        "id": "aUWfzMoLrkrp"
      },
      "source": [
        "# rows=[]\n",
        "# ids=str(my_data['user_id'][0])\n",
        "# val=float(str(my_data['sentiment'][0]))\n",
        "# count=1\n",
        "# for i in range(1,1048574):\n",
        "#     if(str(my_data['user_id'][i])== str(ids)):\n",
        "    \n",
        "#         val=val+float(str(my_data['sentiment'][i]));\n",
        "#         count=count+1;\n",
        "#         if(i==100004):\n",
        "#             cal=float(val/count)\n",
        "#             rows.append({'user_id':str(my_data['user_id'][i-1]),'sentiment':str(cal) , 'count': str(count)})\n",
        "       \n",
        "#     else :\n",
        "    \n",
        "        \n",
        "#         cal=float(val/count)\n",
        "#         rows.append({'user_id':str(my_data['user_id'][i-1]),'sentiment':str(cal) , 'count': str(count)})\n",
        "#         count=1\n",
        "#         ids=str(my_data['user_id'][i])\n",
        "#         val=float(str(my_data['sentiment'][i]));\n",
        "  \n",
        "#this block not executed"
      ],
      "execution_count": null,
      "outputs": []
    },
    {
      "cell_type": "code",
      "metadata": {
        "id": "9oIxZB6yrkru",
        "outputId": "bee3731a-70e6-49d8-e1b5-789fa53869dc",
        "colab": {
          "base_uri": "https://localhost:8080/",
          "height": 204
        }
      },
      "source": [
        "new_data = pd.DataFrame(rows,columns=['user_id','sentiment'])\n",
        "#clean_data['target'] = df.sentiment\n",
        "new_data.head()"
      ],
      "execution_count": null,
      "outputs": [
        {
          "output_type": "execute_result",
          "data": {
            "text/html": [
              "<div>\n",
              "<style scoped>\n",
              "    .dataframe tbody tr th:only-of-type {\n",
              "        vertical-align: middle;\n",
              "    }\n",
              "\n",
              "    .dataframe tbody tr th {\n",
              "        vertical-align: top;\n",
              "    }\n",
              "\n",
              "    .dataframe thead th {\n",
              "        text-align: right;\n",
              "    }\n",
              "</style>\n",
              "<table border=\"1\" class=\"dataframe\">\n",
              "  <thead>\n",
              "    <tr style=\"text-align: right;\">\n",
              "      <th></th>\n",
              "      <th>user_id</th>\n",
              "      <th>sentiment</th>\n",
              "    </tr>\n",
              "  </thead>\n",
              "  <tbody>\n",
              "    <tr>\n",
              "      <th>0</th>\n",
              "      <td>3610511</td>\n",
              "      <td>0.3200673400673402</td>\n",
              "    </tr>\n",
              "    <tr>\n",
              "      <th>1</th>\n",
              "      <td>5656162</td>\n",
              "      <td>0.2711023412418761</td>\n",
              "    </tr>\n",
              "    <tr>\n",
              "      <th>2</th>\n",
              "      <td>5682702</td>\n",
              "      <td>0.25232000487435274</td>\n",
              "    </tr>\n",
              "    <tr>\n",
              "      <th>3</th>\n",
              "      <td>6015122</td>\n",
              "      <td>0.3627417976760083</td>\n",
              "    </tr>\n",
              "    <tr>\n",
              "      <th>4</th>\n",
              "      <td>6067292</td>\n",
              "      <td>0.24907249183564978</td>\n",
              "    </tr>\n",
              "  </tbody>\n",
              "</table>\n",
              "</div>"
            ],
            "text/plain": [
              "   user_id            sentiment\n",
              "0  3610511   0.3200673400673402\n",
              "1  5656162   0.2711023412418761\n",
              "2  5682702  0.25232000487435274\n",
              "3  6015122   0.3627417976760083\n",
              "4  6067292  0.24907249183564978"
            ]
          },
          "metadata": {
            "tags": []
          },
          "execution_count": 64
        }
      ]
    },
    {
      "cell_type": "code",
      "metadata": {
        "id": "3c_awN3sEmxr",
        "outputId": "1a92cd5c-75f3-4f4b-8cdf-f6a674fc871d",
        "colab": {
          "base_uri": "https://localhost:8080/",
          "height": 34
        }
      },
      "source": [
        "num=0\n",
        "for i in range(len(new_data)):\n",
        "  if (float(new_data['sentiment'][i] )<0):\n",
        "    num=num+1\n",
        "print(num)"
      ],
      "execution_count": null,
      "outputs": [
        {
          "output_type": "stream",
          "text": [
            "15\n"
          ],
          "name": "stdout"
        }
      ]
    },
    {
      "cell_type": "code",
      "metadata": {
        "id": "mzzNJM0RGHWB"
      },
      "source": [
        "minm=new_data['sentiment'].min()\n",
        "maxm=new_data['sentiment'].max()"
      ],
      "execution_count": null,
      "outputs": []
    },
    {
      "cell_type": "code",
      "metadata": {
        "id": "obrxvl9aGmb4",
        "outputId": "23a870c8-96bf-41a6-9014-84d344df380b",
        "colab": {
          "base_uri": "https://localhost:8080/",
          "height": 34
        }
      },
      "source": [
        "print(minm,maxm)"
      ],
      "execution_count": null,
      "outputs": [
        {
          "output_type": "stream",
          "text": [
            "-0.07291666666666666 0.5861904761904763\n"
          ],
          "name": "stdout"
        }
      ]
    },
    {
      "cell_type": "code",
      "metadata": {
        "id": "iV_I8q2QGx6s"
      },
      "source": [
        "data=new_data['sentiment'][:]\n",
        "for i in range(len(data)):\n",
        "  val=float(data[i])\n",
        "  val=(val-float(minm))/(float(maxm)-float(minm))\n",
        "  val=(2*val)-1\n",
        "  data[i]=val"
      ],
      "execution_count": null,
      "outputs": []
    },
    {
      "cell_type": "code",
      "metadata": {
        "id": "86wZhQvvHwo4",
        "outputId": "6fbea9d8-2018-4fc8-fbfe-93a41589165f",
        "colab": {
          "base_uri": "https://localhost:8080/",
          "height": 34
        }
      },
      "source": [
        "num=0\n",
        "for i in range(len(data)):\n",
        "  if (data[i] <0):\n",
        "    num=num+1\n",
        "print(num)"
      ],
      "execution_count": null,
      "outputs": [
        {
          "output_type": "stream",
          "text": [
            "60\n"
          ],
          "name": "stdout"
        }
      ]
    },
    {
      "cell_type": "code",
      "metadata": {
        "id": "H9cN35dDIAcK",
        "outputId": "fd92651c-6389-41ae-ae30-7ab77df812f2",
        "colab": {
          "base_uri": "https://localhost:8080/",
          "height": 34
        }
      },
      "source": [
        "len(data)"
      ],
      "execution_count": null,
      "outputs": [
        {
          "output_type": "execute_result",
          "data": {
            "text/plain": [
              "585"
            ]
          },
          "metadata": {
            "tags": []
          },
          "execution_count": 88
        }
      ]
    },
    {
      "cell_type": "code",
      "metadata": {
        "id": "EWaf-y3zJSbv"
      },
      "source": [
        "data"
      ],
      "execution_count": null,
      "outputs": []
    },
    {
      "cell_type": "code",
      "metadata": {
        "id": "j15mGcnCMYBf",
        "outputId": "0de79cac-2866-4244-e56e-241484e9bdbe",
        "colab": {
          "base_uri": "https://localhost:8080/",
          "height": 34
        }
      },
      "source": [
        "num=0\n",
        "for i in range(len(data)):\n",
        "  if (data[i] <-1):\n",
        "    data[i]=-1\n",
        "  if(data[i]>1):\n",
        "    data[i]=1\n",
        "print(num)"
      ],
      "execution_count": null,
      "outputs": [
        {
          "output_type": "stream",
          "text": [
            "0\n"
          ],
          "name": "stdout"
        }
      ]
    },
    {
      "cell_type": "code",
      "metadata": {
        "id": "cYB5zeKIMoEV",
        "outputId": "97e5bfcc-fb96-4a7c-a7b9-cdaed5b081ac",
        "colab": {
          "base_uri": "https://localhost:8080/",
          "height": 34
        }
      },
      "source": [
        "num=0\n",
        "for i in range(len(data)):\n",
        "  if (data[i] >1 ):\n",
        "    num=num+1\n",
        "print(num)"
      ],
      "execution_count": null,
      "outputs": [
        {
          "output_type": "stream",
          "text": [
            "0\n"
          ],
          "name": "stdout"
        }
      ]
    },
    {
      "cell_type": "code",
      "metadata": {
        "id": "RvAdd9M1IPnV"
      },
      "source": [
        "rows=[]\n",
        "for i in range(len(data)):\n",
        "  rows.append({'user_id':str(new_data['user_id'][i]),'sentiment':str(data[i])})"
      ],
      "execution_count": null,
      "outputs": []
    },
    {
      "cell_type": "code",
      "metadata": {
        "id": "oyWeF3ZBI0nR"
      },
      "source": [
        "df3 = pd.DataFrame(rows,columns=['user_id','sentiment'])\n",
        "#clean_data['target'] = df.sentiment\n",
        "df3.head()"
      ],
      "execution_count": null,
      "outputs": []
    },
    {
      "cell_type": "code",
      "metadata": {
        "id": "JLL67tYdrkrz"
      },
      "source": [
        "df3.to_csv('final_sentiment_tweet.csv',encoding='utf-8')"
      ],
      "execution_count": null,
      "outputs": []
    },
    {
      "cell_type": "code",
      "metadata": {
        "id": "geI05uBWJng7",
        "outputId": "89bbd47c-5a40-4613-f7c9-4bfaf0d5c820",
        "colab": {
          "base_uri": "https://localhost:8080/",
          "height": 34
        }
      },
      "source": [
        "num=0\n",
        "for i in range(len(df3)):\n",
        "  if (float(df3['sentiment'][i] )< 0):\n",
        "    num=num+1\n",
        "print(num)"
      ],
      "execution_count": null,
      "outputs": [
        {
          "output_type": "stream",
          "text": [
            "60\n"
          ],
          "name": "stdout"
        }
      ]
    },
    {
      "cell_type": "code",
      "metadata": {
        "id": "O8k6x5bhrkr3",
        "outputId": "d5322754-5283-4d93-e9c1-46936ee44c74",
        "colab": {
          "base_uri": "https://localhost:8080/",
          "height": 204
        }
      },
      "source": [
        "csv = 'final_sentiment_tweet.csv'\n",
        "my_data_new = pd.read_csv(csv,index_col=0)\n",
        "my_data_new.head()"
      ],
      "execution_count": null,
      "outputs": [
        {
          "output_type": "execute_result",
          "data": {
            "text/html": [
              "<div>\n",
              "<style scoped>\n",
              "    .dataframe tbody tr th:only-of-type {\n",
              "        vertical-align: middle;\n",
              "    }\n",
              "\n",
              "    .dataframe tbody tr th {\n",
              "        vertical-align: top;\n",
              "    }\n",
              "\n",
              "    .dataframe thead th {\n",
              "        text-align: right;\n",
              "    }\n",
              "</style>\n",
              "<table border=\"1\" class=\"dataframe\">\n",
              "  <thead>\n",
              "    <tr style=\"text-align: right;\">\n",
              "      <th></th>\n",
              "      <th>user_id</th>\n",
              "      <th>sentiment</th>\n",
              "    </tr>\n",
              "  </thead>\n",
              "  <tbody>\n",
              "    <tr>\n",
              "      <th>0</th>\n",
              "      <td>3610511</td>\n",
              "      <td>0.192474</td>\n",
              "    </tr>\n",
              "    <tr>\n",
              "      <th>1</th>\n",
              "      <td>5656162</td>\n",
              "      <td>0.043894</td>\n",
              "    </tr>\n",
              "    <tr>\n",
              "      <th>2</th>\n",
              "      <td>5682702</td>\n",
              "      <td>-0.013099</td>\n",
              "    </tr>\n",
              "    <tr>\n",
              "      <th>3</th>\n",
              "      <td>6015122</td>\n",
              "      <td>0.321966</td>\n",
              "    </tr>\n",
              "    <tr>\n",
              "      <th>4</th>\n",
              "      <td>6067292</td>\n",
              "      <td>-0.022954</td>\n",
              "    </tr>\n",
              "  </tbody>\n",
              "</table>\n",
              "</div>"
            ],
            "text/plain": [
              "   user_id  sentiment\n",
              "0  3610511   0.192474\n",
              "1  5656162   0.043894\n",
              "2  5682702  -0.013099\n",
              "3  6015122   0.321966\n",
              "4  6067292  -0.022954"
            ]
          },
          "metadata": {
            "tags": []
          },
          "execution_count": 98
        }
      ]
    },
    {
      "cell_type": "code",
      "metadata": {
        "id": "982dIQxtrkr6",
        "outputId": "4de70461-95f5-4fc8-b025-8952bab9e5bb",
        "colab": {
          "base_uri": "https://localhost:8080/",
          "height": 34
        }
      },
      "source": [
        "len(my_data_new)\n",
        "#done till here"
      ],
      "execution_count": null,
      "outputs": [
        {
          "output_type": "execute_result",
          "data": {
            "text/plain": [
              "585"
            ]
          },
          "metadata": {
            "tags": []
          },
          "execution_count": 99
        }
      ]
    },
    {
      "cell_type": "markdown",
      "source": [
        "TWEEPY FOR EXTRACTING USERS PROFILE"
      ],
      "metadata": {
        "id": "9XYO6VNXdH37"
      }
    },
    {
      "cell_type": "code",
      "metadata": {
        "id": "ZypLx6s2rkr9",
        "outputId": "8e6b33a9-f3b8-4250-a88d-1bab7905c0f2"
      },
      "source": [
        "import tweepy\n",
        "import csv\n",
        "import numpy as np\n",
        "import pandas as pd\n",
        "from textblob import TextBlob\n",
        "\n",
        "consumer_key = 'g8UNaAX1AgkEC45HdYxt42Axi'\n",
        "consumer_secret = 'cppp2JZBkYDvNreTVMK7gUYrjnrueVoNYPmsrd6F21rqx0j2af'\n",
        "access_token = '872730273309274116-xr5hsHrvSyWvPWfcHNbyyKbuuXCiFl4'\n",
        "access_secret = 'eTYBC9SzPlBMM1aGt3XSOIyF6jazr5qgaXPDze50BTnTE'\n",
        "auth = tweepy.OAuthHandler(consumer_key, consumer_secret)\n",
        "auth.set_access_token(access_token, access_secret)\n",
        "#api = tweepy.API(auth)\n",
        "api = tweepy.API(auth, wait_on_rate_limit=True)\n",
        "user=api.get_user(14709812)\n",
        "\n",
        "# print(user)\n",
        "\n",
        "print(user.screen_name)\n",
        "print(user.followers_count)\n",
        "print(user.friends_count)\n",
        "\n",
        "#print(user.friends)\n",
        "\n",
        "#for friend in user.friends():\n",
        "   # print(friend.screen_name)"
      ],
      "execution_count": null,
      "outputs": [
        {
          "output_type": "stream",
          "text": [
            "ladegri\n",
            "886\n",
            "964\n"
          ],
          "name": "stdout"
        }
      ]
    },
    {
      "cell_type": "code",
      "metadata": {
        "scrolled": true,
        "id": "lyg5kboQrksA"
      },
      "source": [
        "follower_file=[]\n",
        "\n",
        "for i in range(0,584):\n",
        "    uid=str(my_data_new['user_id'][i])\n",
        "    try:\n",
        "        user=api.get_user(int(uid,10))\n",
        "        frnd_list=[]\n",
        "\n",
        "        if user is not None:\n",
        "            for friend in user.friends():\n",
        "                for i1 in range(0,584):\n",
        "                    if friend.id == my_data_new['user_id'][i1]:            \n",
        "                        frnd_list.append(str(friend.id))\n",
        "#                 frnd_list.append(',')\n",
        "\n",
        "            follower_file.append({'user_id':str(my_data_new['user_id'][i]),'sentiment':str(my_data_new['sentiment'][i]),\n",
        "                                  'count':str(my_data_new['count'][i]),'follower_list':frnd_list})\n",
        "        #print(\"Ok\")\n",
        "        \n",
        "    except tweepy.error.TweepError:\n",
        "        print(\"user not found\")\n",
        "        "
      ],
      "execution_count": null,
      "outputs": []
    },
    {
      "cell_type": "code",
      "metadata": {
        "id": "QG0LvFerrksF",
        "outputId": "0fa33e71-0cfa-4788-9465-9944948f9d52"
      },
      "source": [
        "new_data_follower = pd.DataFrame(follower_file,columns=['user_id','sentiment','count','follower_list'])\n",
        "#clean_data['target'] = df.sentiment\n",
        "new_data_follower.head()"
      ],
      "execution_count": null,
      "outputs": [
        {
          "output_type": "execute_result",
          "data": {
            "text/html": [
              "<div>\n",
              "<style scoped>\n",
              "    .dataframe tbody tr th:only-of-type {\n",
              "        vertical-align: middle;\n",
              "    }\n",
              "\n",
              "    .dataframe tbody tr th {\n",
              "        vertical-align: top;\n",
              "    }\n",
              "\n",
              "    .dataframe thead th {\n",
              "        text-align: right;\n",
              "    }\n",
              "</style>\n",
              "<table border=\"1\" class=\"dataframe\">\n",
              "  <thead>\n",
              "    <tr style=\"text-align: right;\">\n",
              "      <th></th>\n",
              "      <th>user_id</th>\n",
              "      <th>sentiment</th>\n",
              "      <th>count</th>\n",
              "      <th>follower_list</th>\n",
              "    </tr>\n",
              "  </thead>\n",
              "  <tbody>\n",
              "    <tr>\n",
              "      <th>0</th>\n",
              "      <td>3610511</td>\n",
              "      <td>0.09742130815609708</td>\n",
              "      <td>3057</td>\n",
              "      <td>[]</td>\n",
              "    </tr>\n",
              "    <tr>\n",
              "      <th>1</th>\n",
              "      <td>5656162</td>\n",
              "      <td>0.0799917257661822</td>\n",
              "      <td>3128</td>\n",
              "      <td>[]</td>\n",
              "    </tr>\n",
              "    <tr>\n",
              "      <th>2</th>\n",
              "      <td>5682702</td>\n",
              "      <td>0.02572604183018209</td>\n",
              "      <td>3158</td>\n",
              "      <td>[]</td>\n",
              "    </tr>\n",
              "    <tr>\n",
              "      <th>3</th>\n",
              "      <td>6015122</td>\n",
              "      <td>0.021585964703509444</td>\n",
              "      <td>2012</td>\n",
              "      <td>[]</td>\n",
              "    </tr>\n",
              "    <tr>\n",
              "      <th>4</th>\n",
              "      <td>6067292</td>\n",
              "      <td>0.01628173625026435</td>\n",
              "      <td>3098</td>\n",
              "      <td>[]</td>\n",
              "    </tr>\n",
              "  </tbody>\n",
              "</table>\n",
              "</div>"
            ],
            "text/plain": [
              "   user_id             sentiment count follower_list\n",
              "0  3610511   0.09742130815609708  3057            []\n",
              "1  5656162    0.0799917257661822  3128            []\n",
              "2  5682702   0.02572604183018209  3158            []\n",
              "3  6015122  0.021585964703509444  2012            []\n",
              "4  6067292   0.01628173625026435  3098            []"
            ]
          },
          "metadata": {
            "tags": []
          },
          "execution_count": 67
        }
      ]
    },
    {
      "cell_type": "code",
      "metadata": {
        "id": "qwuSK9EyrksL"
      },
      "source": [
        "new_data_follower.to_csv('sentiment_follower_tweet.csv',encoding='utf-8')"
      ],
      "execution_count": null,
      "outputs": []
    },
    {
      "cell_type": "code",
      "metadata": {
        "id": "oU8QrvTprksW"
      },
      "source": [
        "import pandas as pd"
      ],
      "execution_count": null,
      "outputs": []
    },
    {
      "cell_type": "code",
      "metadata": {
        "id": "0WwrZ9Morkse",
        "outputId": "16c2f40d-0f9a-42e4-9ec7-b62abce2738a"
      },
      "source": [
        "#using the dataset after removing comma sentiment_user\n",
        "csv3 = 'sentiment_user.csv'\n",
        "my_data_follower = pd.read_csv(csv3,index_col=0)\n",
        "my_data_follower.head()"
      ],
      "execution_count": null,
      "outputs": [
        {
          "output_type": "execute_result",
          "data": {
            "text/html": [
              "<div>\n",
              "<style scoped>\n",
              "    .dataframe tbody tr th:only-of-type {\n",
              "        vertical-align: middle;\n",
              "    }\n",
              "\n",
              "    .dataframe tbody tr th {\n",
              "        vertical-align: top;\n",
              "    }\n",
              "\n",
              "    .dataframe thead th {\n",
              "        text-align: right;\n",
              "    }\n",
              "</style>\n",
              "<table border=\"1\" class=\"dataframe\">\n",
              "  <thead>\n",
              "    <tr style=\"text-align: right;\">\n",
              "      <th></th>\n",
              "      <th>user_id</th>\n",
              "      <th>sentiment</th>\n",
              "      <th>count</th>\n",
              "      <th>follower_list</th>\n",
              "    </tr>\n",
              "  </thead>\n",
              "  <tbody>\n",
              "    <tr>\n",
              "      <th>0</th>\n",
              "      <td>3610511</td>\n",
              "      <td>0.097421</td>\n",
              "      <td>3057</td>\n",
              "      <td>['42662397',   '145225789',   '73971750',   '2...</td>\n",
              "    </tr>\n",
              "    <tr>\n",
              "      <th>1</th>\n",
              "      <td>5656162</td>\n",
              "      <td>0.079992</td>\n",
              "      <td>3128</td>\n",
              "      <td>['751128534',   '446532729',   '867857940',   ...</td>\n",
              "    </tr>\n",
              "    <tr>\n",
              "      <th>2</th>\n",
              "      <td>5682702</td>\n",
              "      <td>0.025726</td>\n",
              "      <td>3158</td>\n",
              "      <td>['634897018',   '42837007',   '25960529',   '1...</td>\n",
              "    </tr>\n",
              "    <tr>\n",
              "      <th>3</th>\n",
              "      <td>6015122</td>\n",
              "      <td>0.021586</td>\n",
              "      <td>2012</td>\n",
              "      <td>['217806728',   '505774943',   '308502351',   ...</td>\n",
              "    </tr>\n",
              "    <tr>\n",
              "      <th>4</th>\n",
              "      <td>6067292</td>\n",
              "      <td>0.016282</td>\n",
              "      <td>3098</td>\n",
              "      <td>['1183907521',   '818837224003289088',   '9871...</td>\n",
              "    </tr>\n",
              "  </tbody>\n",
              "</table>\n",
              "</div>"
            ],
            "text/plain": [
              "   user_id  sentiment  count  \\\n",
              "0  3610511   0.097421   3057   \n",
              "1  5656162   0.079992   3128   \n",
              "2  5682702   0.025726   3158   \n",
              "3  6015122   0.021586   2012   \n",
              "4  6067292   0.016282   3098   \n",
              "\n",
              "                                       follower_list  \n",
              "0  ['42662397',   '145225789',   '73971750',   '2...  \n",
              "1  ['751128534',   '446532729',   '867857940',   ...  \n",
              "2  ['634897018',   '42837007',   '25960529',   '1...  \n",
              "3  ['217806728',   '505774943',   '308502351',   ...  \n",
              "4  ['1183907521',   '818837224003289088',   '9871...  "
            ]
          },
          "metadata": {
            "tags": []
          },
          "execution_count": 70
        }
      ]
    },
    {
      "cell_type": "code",
      "metadata": {
        "id": "YiYdIS6trksi",
        "outputId": "2dd7ec4e-0c92-43d9-b33b-94900249ab3d"
      },
      "source": [
        "len(my_data_follower)"
      ],
      "execution_count": null,
      "outputs": [
        {
          "output_type": "execute_result",
          "data": {
            "text/plain": [
              "38"
            ]
          },
          "metadata": {
            "tags": []
          },
          "execution_count": 3
        }
      ]
    },
    {
      "cell_type": "code",
      "metadata": {
        "id": "RMbWMxyBrksr",
        "outputId": "25883913-f2bc-4b59-b8a0-5a40c7666f54"
      },
      "source": [
        "csv4='convincing_power.csv'\n",
        "conv_pow = pd.read_csv(csv4,index_col=0)\n",
        "conv_pow.head()"
      ],
      "execution_count": null,
      "outputs": [
        {
          "output_type": "execute_result",
          "data": {
            "text/html": [
              "<div>\n",
              "<style scoped>\n",
              "    .dataframe tbody tr th:only-of-type {\n",
              "        vertical-align: middle;\n",
              "    }\n",
              "\n",
              "    .dataframe tbody tr th {\n",
              "        vertical-align: top;\n",
              "    }\n",
              "\n",
              "    .dataframe thead th {\n",
              "        text-align: right;\n",
              "    }\n",
              "</style>\n",
              "<table border=\"1\" class=\"dataframe\">\n",
              "  <thead>\n",
              "    <tr style=\"text-align: right;\">\n",
              "      <th></th>\n",
              "      <th>user_id</th>\n",
              "      <th>retweet_count</th>\n",
              "      <th>user_mention_count</th>\n",
              "      <th>followers_count</th>\n",
              "      <th>convincing_power</th>\n",
              "    </tr>\n",
              "  </thead>\n",
              "  <tbody>\n",
              "    <tr>\n",
              "      <th>0</th>\n",
              "      <td>3610511</td>\n",
              "      <td>716992</td>\n",
              "      <td>100</td>\n",
              "      <td>4548</td>\n",
              "      <td>0.384402</td>\n",
              "    </tr>\n",
              "    <tr>\n",
              "      <th>1</th>\n",
              "      <td>5656162</td>\n",
              "      <td>716992</td>\n",
              "      <td>4</td>\n",
              "      <td>475</td>\n",
              "      <td>0.018871</td>\n",
              "    </tr>\n",
              "    <tr>\n",
              "      <th>2</th>\n",
              "      <td>5682702</td>\n",
              "      <td>716992</td>\n",
              "      <td>31</td>\n",
              "      <td>287</td>\n",
              "      <td>0.105722</td>\n",
              "    </tr>\n",
              "    <tr>\n",
              "      <th>3</th>\n",
              "      <td>6067292</td>\n",
              "      <td>716992</td>\n",
              "      <td>96</td>\n",
              "      <td>978</td>\n",
              "      <td>0.328489</td>\n",
              "    </tr>\n",
              "    <tr>\n",
              "      <th>4</th>\n",
              "      <td>6140012</td>\n",
              "      <td>716992</td>\n",
              "      <td>22</td>\n",
              "      <td>1189</td>\n",
              "      <td>0.086814</td>\n",
              "    </tr>\n",
              "  </tbody>\n",
              "</table>\n",
              "</div>"
            ],
            "text/plain": [
              "   user_id  retweet_count  user_mention_count  followers_count  \\\n",
              "0  3610511         716992                 100             4548   \n",
              "1  5656162         716992                   4              475   \n",
              "2  5682702         716992                  31              287   \n",
              "3  6067292         716992                  96              978   \n",
              "4  6140012         716992                  22             1189   \n",
              "\n",
              "   convincing_power  \n",
              "0          0.384402  \n",
              "1          0.018871  \n",
              "2          0.105722  \n",
              "3          0.328489  \n",
              "4          0.086814  "
            ]
          },
          "metadata": {
            "tags": []
          },
          "execution_count": 4
        }
      ]
    },
    {
      "cell_type": "code",
      "metadata": {
        "id": "Jh2Em5eOrksv",
        "outputId": "4ac6e8ec-e53f-4a9c-9e03-ecc612e08bd1"
      },
      "source": [
        "follow_list=my_data_follower['follower_list'][0]\n",
        "tempresult=follow_list.split(\",\")\n",
        "\n",
        "for i in range(0,len(tempresult)):\n",
        "    print(int((tempresult[i]).strip('[]\\' ')) )\n",
        "\n",
        "print(len(tempresult))\n"
      ],
      "execution_count": null,
      "outputs": [
        {
          "output_type": "stream",
          "text": [
            "42662397\n",
            "145225789\n",
            "73971750\n",
            "2289311450\n",
            "469153\n",
            "21843\n",
            "801754\n",
            "2267806358\n",
            "520594358\n",
            "2905440476\n",
            "702932794947694592\n",
            "847791835741384705\n",
            "1050122704202788864\n",
            "903754637072769024\n",
            "4524412653\n",
            "428521248\n",
            "57282569\n",
            "418814614\n",
            "1628926970\n",
            "2098681\n",
            "20\n"
          ],
          "name": "stdout"
        }
      ]
    },
    {
      "cell_type": "code",
      "metadata": {
        "id": "haV71wnxrksy"
      },
      "source": [
        "sentiment_values=[]\n",
        "for i in range (0,len(my_data_follower)):\n",
        "    ival=0.0\n",
        "    nofol=0\n",
        "    result=[]\n",
        "    print(\"id:\"+str(my_data_follower['user_id'][i]))\n",
        "    follow_list=str(my_data_follower['follower_list'][i])\n",
        "    tempresult=follow_list.split(\",\")\n",
        "    for i1 in range(0,len(tempresult)):\n",
        "        result.append(int((tempresult[i1]).strip('[]\\' ')))\n",
        "        #print(result[i1])\n",
        "    \n",
        "    for k in range(0,len(result)):\n",
        "        \n",
        "        for j in range(0,len(my_data_follower)):\n",
        "            flag=0\n",
        "            if(str(j) != str(i)):\n",
        "                #print(\"j:\"+str(j)+\" k:\"+str(k))\n",
        "                if(str(my_data_follower['user_id'][j]) == str(result[k])):\n",
        "                    \n",
        "                    for l in range(0,len(conv_pow)):\n",
        "                            if(str(conv_pow['user_id'][l]) == str(result[k])):\n",
        "                                wi=str(conv_pow['convincing_power'][l])\n",
        "                                break\n",
        "                          \n",
        "                    if wi is not None:\n",
        "                        diff=float(str(my_data_follower['sentiment'][i]))-float(str(my_data_follower['sentiment'][j]))\n",
        "                        ival=ival+float(wi)*pow(diff,2)\n",
        "                    flag=1\n",
        "                if(flag==1):\n",
        "                    break\n",
        "                \n",
        "\n",
        "    \n",
        "    \n",
        "    \n",
        "    \n",
        "    \n",
        "        #print(\"no follower matched for \"+ str(my_data_follower['user_id'][i]))\n",
        "    ival=(float(str(my_data_follower['sentiment'][i]))*float(str(my_data_follower['sentiment'][i])))+ival\n",
        "    print(\"final sentiment: \"+str(ival))\n",
        "    #nofol=1\n",
        "    \n",
        "    #if(nofol==1):\n",
        "    sentiment_values.append({'user_id':str(my_data_follower['user_id'][i]),'sentiment_value': str(ival)})\n",
        "   # else :\n",
        "       # sentiment_values.append({'user_id':str(my_data_follower['user_id'][i]),'sentiment_value': str(ival),'match_value':\"1\"})\n",
        "        \n",
        "    \n"
      ],
      "execution_count": null,
      "outputs": []
    },
    {
      "cell_type": "code",
      "metadata": {
        "id": "ZJxm-MMZrks2",
        "outputId": "48979d39-7d2f-4849-9fbd-0cc6385d3562"
      },
      "source": [
        "sentiment = pd.DataFrame(sentiment_values,columns=['user_id','sentiment_value'])\n",
        "#clean_data['target'] = df.sentiment\n",
        "sentiment.head()"
      ],
      "execution_count": null,
      "outputs": [
        {
          "output_type": "execute_result",
          "data": {
            "text/html": [
              "<div>\n",
              "<style scoped>\n",
              "    .dataframe tbody tr th:only-of-type {\n",
              "        vertical-align: middle;\n",
              "    }\n",
              "\n",
              "    .dataframe tbody tr th {\n",
              "        vertical-align: top;\n",
              "    }\n",
              "\n",
              "    .dataframe thead th {\n",
              "        text-align: right;\n",
              "    }\n",
              "</style>\n",
              "<table border=\"1\" class=\"dataframe\">\n",
              "  <thead>\n",
              "    <tr style=\"text-align: right;\">\n",
              "      <th></th>\n",
              "      <th>user_id</th>\n",
              "      <th>sentiment_value</th>\n",
              "    </tr>\n",
              "  </thead>\n",
              "  <tbody>\n",
              "    <tr>\n",
              "      <th>0</th>\n",
              "      <td>3610511</td>\n",
              "      <td>0.009490911252430866</td>\n",
              "    </tr>\n",
              "    <tr>\n",
              "      <th>1</th>\n",
              "      <td>5656162</td>\n",
              "      <td>0.006398676228459076</td>\n",
              "    </tr>\n",
              "    <tr>\n",
              "      <th>2</th>\n",
              "      <td>5682702</td>\n",
              "      <td>0.0006618292369857641</td>\n",
              "    </tr>\n",
              "    <tr>\n",
              "      <th>3</th>\n",
              "      <td>6015122</td>\n",
              "      <td>0.00046595388498122493</td>\n",
              "    </tr>\n",
              "    <tr>\n",
              "      <th>4</th>\n",
              "      <td>6067292</td>\n",
              "      <td>0.00026509492717369606</td>\n",
              "    </tr>\n",
              "  </tbody>\n",
              "</table>\n",
              "</div>"
            ],
            "text/plain": [
              "   user_id         sentiment_value\n",
              "0  3610511    0.009490911252430866\n",
              "1  5656162    0.006398676228459076\n",
              "2  5682702   0.0006618292369857641\n",
              "3  6015122  0.00046595388498122493\n",
              "4  6067292  0.00026509492717369606"
            ]
          },
          "metadata": {
            "tags": []
          },
          "execution_count": 17
        }
      ]
    },
    {
      "cell_type": "code",
      "metadata": {
        "id": "vaLon9LVrks8"
      },
      "source": [
        "sentiment.to_csv('sentiment_value_final.csv',encoding='utf-8')"
      ],
      "execution_count": null,
      "outputs": []
    },
    {
      "cell_type": "code",
      "metadata": {
        "id": "k82b6QIMrks_",
        "outputId": "6e8796fe-69b8-4d0e-9974-d4f29647ffa1"
      },
      "source": [
        "\n",
        "csv5 = 'sentiment_value_final.csv'\n",
        "my_data_sentiment = pd.read_csv(csv5,index_col=0)\n",
        "my_data_sentiment.head(10)"
      ],
      "execution_count": null,
      "outputs": [
        {
          "output_type": "execute_result",
          "data": {
            "text/html": [
              "<div>\n",
              "<style scoped>\n",
              "    .dataframe tbody tr th:only-of-type {\n",
              "        vertical-align: middle;\n",
              "    }\n",
              "\n",
              "    .dataframe tbody tr th {\n",
              "        vertical-align: top;\n",
              "    }\n",
              "\n",
              "    .dataframe thead th {\n",
              "        text-align: right;\n",
              "    }\n",
              "</style>\n",
              "<table border=\"1\" class=\"dataframe\">\n",
              "  <thead>\n",
              "    <tr style=\"text-align: right;\">\n",
              "      <th></th>\n",
              "      <th>user_id</th>\n",
              "      <th>sentiment_value</th>\n",
              "    </tr>\n",
              "  </thead>\n",
              "  <tbody>\n",
              "    <tr>\n",
              "      <th>0</th>\n",
              "      <td>3610511</td>\n",
              "      <td>0.009491</td>\n",
              "    </tr>\n",
              "    <tr>\n",
              "      <th>1</th>\n",
              "      <td>5656162</td>\n",
              "      <td>0.006399</td>\n",
              "    </tr>\n",
              "    <tr>\n",
              "      <th>2</th>\n",
              "      <td>5682702</td>\n",
              "      <td>0.000662</td>\n",
              "    </tr>\n",
              "    <tr>\n",
              "      <th>3</th>\n",
              "      <td>6015122</td>\n",
              "      <td>0.000466</td>\n",
              "    </tr>\n",
              "    <tr>\n",
              "      <th>4</th>\n",
              "      <td>6067292</td>\n",
              "      <td>0.000265</td>\n",
              "    </tr>\n",
              "    <tr>\n",
              "      <th>5</th>\n",
              "      <td>6134312</td>\n",
              "      <td>0.005091</td>\n",
              "    </tr>\n",
              "    <tr>\n",
              "      <th>6</th>\n",
              "      <td>6140012</td>\n",
              "      <td>0.000158</td>\n",
              "    </tr>\n",
              "    <tr>\n",
              "      <th>7</th>\n",
              "      <td>6684602</td>\n",
              "      <td>0.000136</td>\n",
              "    </tr>\n",
              "    <tr>\n",
              "      <th>8</th>\n",
              "      <td>7046912</td>\n",
              "      <td>0.002687</td>\n",
              "    </tr>\n",
              "    <tr>\n",
              "      <th>9</th>\n",
              "      <td>8072492</td>\n",
              "      <td>0.000123</td>\n",
              "    </tr>\n",
              "  </tbody>\n",
              "</table>\n",
              "</div>"
            ],
            "text/plain": [
              "   user_id  sentiment_value\n",
              "0  3610511         0.009491\n",
              "1  5656162         0.006399\n",
              "2  5682702         0.000662\n",
              "3  6015122         0.000466\n",
              "4  6067292         0.000265\n",
              "5  6134312         0.005091\n",
              "6  6140012         0.000158\n",
              "7  6684602         0.000136\n",
              "8  7046912         0.002687\n",
              "9  8072492         0.000123"
            ]
          },
          "metadata": {
            "tags": []
          },
          "execution_count": 20
        }
      ]
    },
    {
      "cell_type": "code",
      "metadata": {
        "id": "q__k2quPrktC",
        "outputId": "f4690dcb-76d4-4266-d002-2ebdb7c4e643"
      },
      "source": [
        "import pandas as pd\n",
        "data=pd.read_csv(\"sentiment_follower_tweet.csv\")\n",
        "\n",
        "print(data.head(5))"
      ],
      "execution_count": null,
      "outputs": [
        {
          "output_type": "stream",
          "text": [
            "   Unnamed: 0  user_id  sentiment  count follower_list\n",
            "0           0  3610511   0.097421   3057            []\n",
            "1           1  5656162   0.079992   3128            []\n",
            "2           2  5682702   0.025726   3158            []\n",
            "3           3  6015122   0.021586   2012            []\n",
            "4           4  6067292   0.016282   3098            []\n"
          ],
          "name": "stdout"
        }
      ]
    },
    {
      "cell_type": "code",
      "metadata": {
        "id": "oMkxK9aKrktF",
        "outputId": "de82dc0f-998e-4d5a-cb54-52a8f8d0003d"
      },
      "source": [
        "len(data)"
      ],
      "execution_count": null,
      "outputs": [
        {
          "output_type": "execute_result",
          "data": {
            "text/plain": [
              "485"
            ]
          },
          "metadata": {
            "tags": []
          },
          "execution_count": 2
        }
      ]
    },
    {
      "cell_type": "code",
      "metadata": {
        "id": "M9IWHz16rktI"
      },
      "source": [
        "import numpy as np\n",
        "import random\n",
        "from random import randrange\n",
        "from random import choice"
      ],
      "execution_count": null,
      "outputs": []
    },
    {
      "cell_type": "code",
      "metadata": {
        "id": "UotIy7dgrktL"
      },
      "source": [
        "follower_file=[]\n",
        "random_followers=[]\n",
        "\n",
        "for i in range(0,484):\n",
        "   \n",
        "    random_followers=[]\n",
        "    followee_list=[]\n",
        "    #(1)Generating random numbers of  follower for every user i(50,100 can be changed)  \n",
        "    fol_num=random.randrange(1,20);\n",
        "    print(fol_num)\n",
        "    #(2)Generating fol_num numbers of followers from 0 to 484 excluding i itself\n",
        "    random_followers=random.sample(range(0, 484), fol_num)\n",
        "    print(random_followers)\n",
        "    print(\"len:\")\n",
        "    print(len(random_followers))\n",
        "    for j in range(0,len(random_followers)):\n",
        "        if(random_followers[j]==i):\n",
        "            y=[]\n",
        "            y =list(random_followers)\n",
        "            y.append(i);\n",
        "            random_followers[j]=choice([k for k in range(0,484) if k not in y])\n",
        "            break;\n",
        "    for j in range (0,len(random_followers)):\n",
        "        followee_list.append(str(data['user_id'][random_followers[j]]))\n",
        "        \n",
        "    follower_file.append({'user_id':str(data['user_id'][i]),'initial_opinion':str(data['sentiment'][i]),\n",
        "                                   'count':str(data['count'][i]),'follower_list':followee_list,'index_list':random_followers})\n",
        "      "
      ],
      "execution_count": null,
      "outputs": []
    },
    {
      "cell_type": "code",
      "metadata": {
        "id": "MuHpC11NrktN",
        "outputId": "6d41d2b1-3732-4900-ed28-a98c02bfd8b3"
      },
      "source": [
        "sentiment = pd.DataFrame(follower_file,columns=['user_id','initial_opinion','count','follower_list','index_list'])\n",
        "#clean_data['target'] = df.sentiment\n",
        "sentiment.head()"
      ],
      "execution_count": null,
      "outputs": [
        {
          "output_type": "execute_result",
          "data": {
            "text/html": [
              "<div>\n",
              "<style scoped>\n",
              "    .dataframe tbody tr th:only-of-type {\n",
              "        vertical-align: middle;\n",
              "    }\n",
              "\n",
              "    .dataframe tbody tr th {\n",
              "        vertical-align: top;\n",
              "    }\n",
              "\n",
              "    .dataframe thead th {\n",
              "        text-align: right;\n",
              "    }\n",
              "</style>\n",
              "<table border=\"1\" class=\"dataframe\">\n",
              "  <thead>\n",
              "    <tr style=\"text-align: right;\">\n",
              "      <th></th>\n",
              "      <th>user_id</th>\n",
              "      <th>initial_opinion</th>\n",
              "      <th>count</th>\n",
              "      <th>follower_list</th>\n",
              "      <th>index_list</th>\n",
              "    </tr>\n",
              "  </thead>\n",
              "  <tbody>\n",
              "    <tr>\n",
              "      <th>0</th>\n",
              "      <td>3610511</td>\n",
              "      <td>0.09742130815609708</td>\n",
              "      <td>3057</td>\n",
              "      <td>[81592426, 118339229, 256689270, 85305729, 103...</td>\n",
              "      <td>[196, 272, 446, 211, 238, 217, 197]</td>\n",
              "    </tr>\n",
              "    <tr>\n",
              "      <th>1</th>\n",
              "      <td>5656162</td>\n",
              "      <td>0.0799917257661822</td>\n",
              "      <td>3128</td>\n",
              "      <td>[249122012, 132104173, 181477746]</td>\n",
              "      <td>[434, 286, 346]</td>\n",
              "    </tr>\n",
              "    <tr>\n",
              "      <th>2</th>\n",
              "      <td>5682702</td>\n",
              "      <td>0.02572604183018209</td>\n",
              "      <td>3158</td>\n",
              "      <td>[23748269, 268773741, 176362396, 48665791, 211...</td>\n",
              "      <td>[51, 465, 343, 110, 389, 215, 414, 100, 473]</td>\n",
              "    </tr>\n",
              "    <tr>\n",
              "      <th>3</th>\n",
              "      <td>6015122</td>\n",
              "      <td>0.021585964703509444</td>\n",
              "      <td>2012</td>\n",
              "      <td>[22136015, 225045616, 45778279, 67006908, 8923...</td>\n",
              "      <td>[48, 407, 103, 162, 221, 376, 442, 174, 451, 4...</td>\n",
              "    </tr>\n",
              "  </tbody>\n",
              "</table>\n",
              "</div>"
            ],
            "text/plain": [
              "   user_id       initial_opinion count  \\\n",
              "0  3610511   0.09742130815609708  3057   \n",
              "1  5656162    0.0799917257661822  3128   \n",
              "2  5682702   0.02572604183018209  3158   \n",
              "3  6015122  0.021585964703509444  2012   \n",
              "\n",
              "                                       follower_list  \\\n",
              "0  [81592426, 118339229, 256689270, 85305729, 103...   \n",
              "1                  [249122012, 132104173, 181477746]   \n",
              "2  [23748269, 268773741, 176362396, 48665791, 211...   \n",
              "3  [22136015, 225045616, 45778279, 67006908, 8923...   \n",
              "\n",
              "                                          index_list  \n",
              "0                [196, 272, 446, 211, 238, 217, 197]  \n",
              "1                                    [434, 286, 346]  \n",
              "2       [51, 465, 343, 110, 389, 215, 414, 100, 473]  \n",
              "3  [48, 407, 103, 162, 221, 376, 442, 174, 451, 4...  "
            ]
          },
          "metadata": {
            "tags": []
          },
          "execution_count": 33
        }
      ]
    },
    {
      "cell_type": "code",
      "metadata": {
        "scrolled": true,
        "id": "_5FsIDjsrktQ"
      },
      "source": [
        "sentiment.to_csv('Final_follower_random_list.csv',encoding='utf-8')"
      ],
      "execution_count": null,
      "outputs": []
    },
    {
      "cell_type": "code",
      "metadata": {
        "id": "R3-Wa-FvrktT",
        "outputId": "4bb205bc-20ba-4d3d-e647-e6cfddceb2ee"
      },
      "source": [
        "csv5 = 'Final_follower_random_list.csv'\n",
        "my_data_sentiment = pd.read_csv(csv5,index_col=0)\n",
        "my_data_sentiment.head(10)"
      ],
      "execution_count": null,
      "outputs": [
        {
          "output_type": "execute_result",
          "data": {
            "text/html": [
              "<div>\n",
              "<style scoped>\n",
              "    .dataframe tbody tr th:only-of-type {\n",
              "        vertical-align: middle;\n",
              "    }\n",
              "\n",
              "    .dataframe tbody tr th {\n",
              "        vertical-align: top;\n",
              "    }\n",
              "\n",
              "    .dataframe thead th {\n",
              "        text-align: right;\n",
              "    }\n",
              "</style>\n",
              "<table border=\"1\" class=\"dataframe\">\n",
              "  <thead>\n",
              "    <tr style=\"text-align: right;\">\n",
              "      <th></th>\n",
              "      <th>user_id</th>\n",
              "      <th>initial_opinion</th>\n",
              "      <th>count</th>\n",
              "      <th>follower_list</th>\n",
              "      <th>index_list</th>\n",
              "    </tr>\n",
              "  </thead>\n",
              "  <tbody>\n",
              "    <tr>\n",
              "      <th>0</th>\n",
              "      <td>3610511</td>\n",
              "      <td>0.097421</td>\n",
              "      <td>3057</td>\n",
              "      <td>['81592426', '118339229', '256689270', '853057...</td>\n",
              "      <td>[196, 272, 446, 211, 238, 217, 197]</td>\n",
              "    </tr>\n",
              "    <tr>\n",
              "      <th>1</th>\n",
              "      <td>5656162</td>\n",
              "      <td>0.079992</td>\n",
              "      <td>3128</td>\n",
              "      <td>['249122012', '132104173', '181477746']</td>\n",
              "      <td>[434, 286, 346]</td>\n",
              "    </tr>\n",
              "    <tr>\n",
              "      <th>2</th>\n",
              "      <td>5682702</td>\n",
              "      <td>0.025726</td>\n",
              "      <td>3158</td>\n",
              "      <td>['23748269', '268773741', '176362396', '486657...</td>\n",
              "      <td>[51, 465, 343, 110, 389, 215, 414, 100, 473]</td>\n",
              "    </tr>\n",
              "    <tr>\n",
              "      <th>3</th>\n",
              "      <td>6015122</td>\n",
              "      <td>0.021586</td>\n",
              "      <td>2012</td>\n",
              "      <td>['22136015', '225045616', '45778279', '6700690...</td>\n",
              "      <td>[48, 407, 103, 162, 221, 376, 442, 174, 451, 4...</td>\n",
              "    </tr>\n",
              "  </tbody>\n",
              "</table>\n",
              "</div>"
            ],
            "text/plain": [
              "   user_id  initial_opinion  count  \\\n",
              "0  3610511         0.097421   3057   \n",
              "1  5656162         0.079992   3128   \n",
              "2  5682702         0.025726   3158   \n",
              "3  6015122         0.021586   2012   \n",
              "\n",
              "                                       follower_list  \\\n",
              "0  ['81592426', '118339229', '256689270', '853057...   \n",
              "1            ['249122012', '132104173', '181477746']   \n",
              "2  ['23748269', '268773741', '176362396', '486657...   \n",
              "3  ['22136015', '225045616', '45778279', '6700690...   \n",
              "\n",
              "                                          index_list  \n",
              "0                [196, 272, 446, 211, 238, 217, 197]  \n",
              "1                                    [434, 286, 346]  \n",
              "2       [51, 465, 343, 110, 389, 215, 414, 100, 473]  \n",
              "3  [48, 407, 103, 162, 221, 376, 442, 174, 451, 4...  "
            ]
          },
          "metadata": {
            "tags": []
          },
          "execution_count": 35
        }
      ]
    },
    {
      "cell_type": "code",
      "metadata": {
        "id": "cbvrAl_BrktV"
      },
      "source": [
        ""
      ],
      "execution_count": null,
      "outputs": []
    }
  ]
}